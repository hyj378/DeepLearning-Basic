{
  "nbformat": 4,
  "nbformat_minor": 0,
  "metadata": {
    "colab": {
      "name": "Labs_linear_regression.ipynb",
      "version": "0.3.2",
      "provenance": [],
      "collapsed_sections": [],
      "include_colab_link": true
    },
    "kernelspec": {
      "name": "python3",
      "display_name": "Python 3"
    }
  },
  "cells": [
    {
      "cell_type": "markdown",
      "metadata": {
        "id": "view-in-github",
        "colab_type": "text"
      },
      "source": [
        "<a href=\"https://colab.research.google.com/github/hyj378/DeepLearning-Basic/blob/master/Labs_linear_regression.ipynb\" target=\"_parent\"><img src=\"https://colab.research.google.com/assets/colab-badge.svg\" alt=\"Open In Colab\"/></a>"
      ]
    },
    {
      "metadata": {
        "id": "bXWXvxEStKoG",
        "colab_type": "text"
      },
      "cell_type": "markdown",
      "source": [
        "# Tensorflow의 수행과정(session의 작동원리)"
      ]
    },
    {
      "metadata": {
        "id": "pOQ67kxfrtwo",
        "colab_type": "code",
        "colab": {}
      },
      "cell_type": "code",
      "source": [
        "import tensorflow as tf\n"
      ],
      "execution_count": 0,
      "outputs": []
    },
    {
      "metadata": {
        "id": "7R-JOedCsU4X",
        "colab_type": "code",
        "outputId": "f915f583-c965-4d7d-f03a-b4561156bab2",
        "colab": {
          "base_uri": "https://localhost:8080/",
          "height": 470
        }
      },
      "cell_type": "code",
      "source": [
        "g1=tf.Graph()\n",
        "with g1.as_default() as graph:\n",
        "  const1=tf.constant(3)\n",
        "  \n",
        "sess=tf.Session() #default graph에대한 session을 열었다\n",
        "sess.run(const1)  #default session이므로 const1이라는 상수변수(?)가 존재하지 않는다"
      ],
      "execution_count": 0,
      "outputs": [
        {
          "output_type": "error",
          "ename": "RuntimeError",
          "evalue": "ignored",
          "traceback": [
            "\u001b[0;31m---------------------------------------------------------------------------\u001b[0m",
            "\u001b[0;31mRuntimeError\u001b[0m                              Traceback (most recent call last)",
            "\u001b[0;32m<ipython-input-2-4236160c6669>\u001b[0m in \u001b[0;36m<module>\u001b[0;34m()\u001b[0m\n\u001b[1;32m      4\u001b[0m \u001b[0;34m\u001b[0m\u001b[0m\n\u001b[1;32m      5\u001b[0m \u001b[0msess\u001b[0m\u001b[0;34m=\u001b[0m\u001b[0mtf\u001b[0m\u001b[0;34m.\u001b[0m\u001b[0mSession\u001b[0m\u001b[0;34m(\u001b[0m\u001b[0;34m)\u001b[0m \u001b[0;31m#default graph에대한 session을 열었다\u001b[0m\u001b[0;34m\u001b[0m\u001b[0;34m\u001b[0m\u001b[0m\n\u001b[0;32m----> 6\u001b[0;31m \u001b[0msess\u001b[0m\u001b[0;34m.\u001b[0m\u001b[0mrun\u001b[0m\u001b[0;34m(\u001b[0m\u001b[0mconst1\u001b[0m\u001b[0;34m)\u001b[0m  \u001b[0;31m#default session이므로 const1이라는 상수변수(?)가 존재하지 않는다\u001b[0m\u001b[0;34m\u001b[0m\u001b[0;34m\u001b[0m\u001b[0m\n\u001b[0m",
            "\u001b[0;32m/usr/local/lib/python3.6/dist-packages/tensorflow/python/client/session.py\u001b[0m in \u001b[0;36mrun\u001b[0;34m(self, fetches, feed_dict, options, run_metadata)\u001b[0m\n\u001b[1;32m    927\u001b[0m     \u001b[0;32mtry\u001b[0m\u001b[0;34m:\u001b[0m\u001b[0;34m\u001b[0m\u001b[0;34m\u001b[0m\u001b[0m\n\u001b[1;32m    928\u001b[0m       result = self._run(None, fetches, feed_dict, options_ptr,\n\u001b[0;32m--> 929\u001b[0;31m                          run_metadata_ptr)\n\u001b[0m\u001b[1;32m    930\u001b[0m       \u001b[0;32mif\u001b[0m \u001b[0mrun_metadata\u001b[0m\u001b[0;34m:\u001b[0m\u001b[0;34m\u001b[0m\u001b[0;34m\u001b[0m\u001b[0m\n\u001b[1;32m    931\u001b[0m         \u001b[0mproto_data\u001b[0m \u001b[0;34m=\u001b[0m \u001b[0mtf_session\u001b[0m\u001b[0;34m.\u001b[0m\u001b[0mTF_GetBuffer\u001b[0m\u001b[0;34m(\u001b[0m\u001b[0mrun_metadata_ptr\u001b[0m\u001b[0;34m)\u001b[0m\u001b[0;34m\u001b[0m\u001b[0;34m\u001b[0m\u001b[0m\n",
            "\u001b[0;32m/usr/local/lib/python3.6/dist-packages/tensorflow/python/client/session.py\u001b[0m in \u001b[0;36m_run\u001b[0;34m(self, handle, fetches, feed_dict, options, run_metadata)\u001b[0m\n\u001b[1;32m   1075\u001b[0m       \u001b[0;32mraise\u001b[0m \u001b[0mRuntimeError\u001b[0m\u001b[0;34m(\u001b[0m\u001b[0;34m'Attempted to use a closed Session.'\u001b[0m\u001b[0;34m)\u001b[0m\u001b[0;34m\u001b[0m\u001b[0;34m\u001b[0m\u001b[0m\n\u001b[1;32m   1076\u001b[0m     \u001b[0;32mif\u001b[0m \u001b[0mself\u001b[0m\u001b[0;34m.\u001b[0m\u001b[0mgraph\u001b[0m\u001b[0;34m.\u001b[0m\u001b[0mversion\u001b[0m \u001b[0;34m==\u001b[0m \u001b[0;36m0\u001b[0m\u001b[0;34m:\u001b[0m\u001b[0;34m\u001b[0m\u001b[0;34m\u001b[0m\u001b[0m\n\u001b[0;32m-> 1077\u001b[0;31m       raise RuntimeError('The Session graph is empty.  Add operations to the '\n\u001b[0m\u001b[1;32m   1078\u001b[0m                          'graph before calling run().')\n\u001b[1;32m   1079\u001b[0m \u001b[0;34m\u001b[0m\u001b[0m\n",
            "\u001b[0;31mRuntimeError\u001b[0m: The Session graph is empty.  Add operations to the graph before calling run()."
          ]
        }
      ]
    },
    {
      "metadata": {
        "id": "BvglvaLoswoJ",
        "colab_type": "text"
      },
      "cell_type": "markdown",
      "source": [
        "The Session graph is empty.  Add operations to the graph before calling run(). 오류가 발생했다.\n",
        "\n",
        "const1변수는 g1안에있는 상수변수(?)이고,\n",
        "session은 defalut graph에 대한 session이니 당연한 결과이다\n",
        "\n",
        "(g1에 대한 session을 열고싶다면 \n",
        "```\n",
        "세션이름=tf.Session(graph=g1)\n",
        "세션이름.run(실행할 가지)\n",
        "\n",
        "```\n",
        ")"
      ]
    },
    {
      "metadata": {
        "id": "wFS6vUqirJ9c",
        "colab_type": "code",
        "colab": {}
      },
      "cell_type": "code",
      "source": [
        "a=tf.constant(1)\n",
        "b=tf.constant(2)\n",
        "c=tf.add(a,b)\n",
        "sess=tf.Session() #default graph에 대해 세션 열고\n",
        "sess.run(c) #연산이 시작하는 브랜치(가지)를 sess.run(fetches)로 "
      ],
      "execution_count": 0,
      "outputs": []
    },
    {
      "metadata": {
        "id": "NN7Q61w8ruh_",
        "colab_type": "text"
      },
      "cell_type": "markdown",
      "source": [
        "sess.run(가지)를 주면 가지를 따라서 연산을 시작하게 된다.\n",
        "\n",
        "그래프 전체를 실행할 필요없이 그래프의 일부분(fetches)만 넘겨서 실행할 수 있다."
      ]
    },
    {
      "metadata": {
        "id": "pmX03FPttJPl",
        "colab_type": "text"
      },
      "cell_type": "markdown",
      "source": [
        "# Variable과 constant, Placeholder"
      ]
    },
    {
      "metadata": {
        "id": "0pNXAl3EtIvK",
        "colab_type": "code",
        "outputId": "d7121860-c4d0-4734-e9ab-6b49c4602d04",
        "colab": {
          "base_uri": "https://localhost:8080/",
          "height": 90
        }
      },
      "cell_type": "code",
      "source": [
        "g2=tf.Graph()\n",
        "with g2.as_default():\n",
        "  c1=tf.constant(1,name=\"c1\")\n",
        "  v1=tf.Variable(initial_value=1, name=\"v1\")\n",
        "  p=tf.placeholder(\"int32\", [1], name=\"p\")"
      ],
      "execution_count": 0,
      "outputs": [
        {
          "output_type": "stream",
          "text": [
            "WARNING:tensorflow:From /usr/local/lib/python3.6/dist-packages/tensorflow/python/framework/op_def_library.py:263: colocate_with (from tensorflow.python.framework.ops) is deprecated and will be removed in a future version.\n",
            "Instructions for updating:\n",
            "Colocations handled automatically by placer.\n"
          ],
          "name": "stdout"
        }
      ]
    },
    {
      "metadata": {
        "id": "fW6LrloSvCAe",
        "colab_type": "code",
        "outputId": "6a1d55fa-d864-403f-89ce-d3a40b9abd1e",
        "colab": {
          "base_uri": "https://localhost:8080/",
          "height": 34
        }
      },
      "cell_type": "code",
      "source": [
        "type(c1)"
      ],
      "execution_count": 0,
      "outputs": [
        {
          "output_type": "execute_result",
          "data": {
            "text/plain": [
              "tensorflow.python.framework.ops.Tensor"
            ]
          },
          "metadata": {
            "tags": []
          },
          "execution_count": 4
        }
      ]
    },
    {
      "metadata": {
        "id": "r2tsTTGSvGdX",
        "colab_type": "code",
        "outputId": "23ad753c-209c-46b6-ab6e-b55bf33e58d0",
        "colab": {
          "base_uri": "https://localhost:8080/",
          "height": 34
        }
      },
      "cell_type": "code",
      "source": [
        "c1 #c1는 현재 그냥 텐서일 뿐(세션이 실행되지 않았으므로)"
      ],
      "execution_count": 0,
      "outputs": [
        {
          "output_type": "execute_result",
          "data": {
            "text/plain": [
              "<tf.Tensor 'c1:0' shape=() dtype=int32>"
            ]
          },
          "metadata": {
            "tags": []
          },
          "execution_count": 5
        }
      ]
    },
    {
      "metadata": {
        "id": "Llve9KUhvHoL",
        "colab_type": "code",
        "outputId": "12479736-7536-4cb9-a064-906de1fe0aee",
        "colab": {
          "base_uri": "https://localhost:8080/",
          "height": 34
        }
      },
      "cell_type": "code",
      "source": [
        "c1.op #텐서에 해당하는 연산"
      ],
      "execution_count": 0,
      "outputs": [
        {
          "output_type": "execute_result",
          "data": {
            "text/plain": [
              "<tf.Operation 'c1' type=Const>"
            ]
          },
          "metadata": {
            "tags": []
          },
          "execution_count": 6
        }
      ]
    },
    {
      "metadata": {
        "id": "vLI-0O21vNLP",
        "colab_type": "code",
        "outputId": "1eeb070e-ddf4-4797-efb7-29a4bab8a11f",
        "colab": {
          "base_uri": "https://localhost:8080/",
          "height": 351
        }
      },
      "cell_type": "code",
      "source": [
        "c1.op.node_def #노드의 정의"
      ],
      "execution_count": 0,
      "outputs": [
        {
          "output_type": "execute_result",
          "data": {
            "text/plain": [
              "name: \"c1\"\n",
              "op: \"Const\"\n",
              "attr {\n",
              "  key: \"dtype\"\n",
              "  value {\n",
              "    type: DT_INT32\n",
              "  }\n",
              "}\n",
              "attr {\n",
              "  key: \"value\"\n",
              "  value {\n",
              "    tensor {\n",
              "      dtype: DT_INT32\n",
              "      tensor_shape {\n",
              "      }\n",
              "      int_val: 1\n",
              "    }\n",
              "  }\n",
              "}"
            ]
          },
          "metadata": {
            "tags": []
          },
          "execution_count": 7
        }
      ]
    },
    {
      "metadata": {
        "id": "VQNvXjNNvSVl",
        "colab_type": "text"
      },
      "cell_type": "markdown",
      "source": [
        "name: \"c1\"<br>\n",
        "op: \"Const\" #상수의 연산을 함<br>\n",
        "attr {  #데이터타입에 관한 속성<br>\n",
        "  key: \"dtype\" <br>\n",
        "  value {#데이터타입은 int32임 <br>\n",
        "    type: DT_INT32 <br>\n",
        "  } <br> \n",
        "} <br> \n",
        "attr {  #값에 관한 속성<br> \n",
        "  key: \"value\" <br>\n",
        "  value {<br>\n",
        "    tensor {  #값은 int_val:1인 텐서임<br>\n",
        "      dtype: DT_INT32<br>\n",
        "      tensor_shape {<br>\n",
        "      }<br>\n",
        "      int_val: 1<br>\n",
        "    }<br>\n",
        "  }<br>\n",
        "}<br>"
      ]
    },
    {
      "metadata": {
        "id": "iOHDqNxavRFb",
        "colab_type": "code",
        "outputId": "f4f0828d-710f-4376-f954-125f0692c924",
        "colab": {
          "base_uri": "https://localhost:8080/",
          "height": 34
        }
      },
      "cell_type": "code",
      "source": [
        "type(v1)"
      ],
      "execution_count": 0,
      "outputs": [
        {
          "output_type": "execute_result",
          "data": {
            "text/plain": [
              "tensorflow.python.ops.variables.RefVariable"
            ]
          },
          "metadata": {
            "tags": []
          },
          "execution_count": 9
        }
      ]
    },
    {
      "metadata": {
        "id": "nbx-Q6i4wRTL",
        "colab_type": "code",
        "outputId": "0cca10f9-d0c6-4a45-d5ab-6ff0b08a8cd6",
        "colab": {
          "base_uri": "https://localhost:8080/",
          "height": 34
        }
      },
      "cell_type": "code",
      "source": [
        "v1 #v1는 현재 그냥 텐서일 뿐(세션이 실행되지 않았으므로)"
      ],
      "execution_count": 0,
      "outputs": [
        {
          "output_type": "execute_result",
          "data": {
            "text/plain": [
              "<tf.Variable 'v1:0' shape=() dtype=int32_ref>"
            ]
          },
          "metadata": {
            "tags": []
          },
          "execution_count": 10
        }
      ]
    },
    {
      "metadata": {
        "id": "693eE3D2wUaY",
        "colab_type": "code",
        "outputId": "bf6cc0c6-9565-40b6-d175-87e7b0aeca27",
        "colab": {
          "base_uri": "https://localhost:8080/",
          "height": 34
        }
      },
      "cell_type": "code",
      "source": [
        "v1.op"
      ],
      "execution_count": 0,
      "outputs": [
        {
          "output_type": "execute_result",
          "data": {
            "text/plain": [
              "<tf.Operation 'v1' type=VariableV2>"
            ]
          },
          "metadata": {
            "tags": []
          },
          "execution_count": 11
        }
      ]
    },
    {
      "metadata": {
        "id": "RT8uOAhGwj-H",
        "colab_type": "code",
        "outputId": "9adc5bb8-5dc1-4a45-e9dd-f5047e3d298d",
        "colab": {
          "base_uri": "https://localhost:8080/",
          "height": 492
        }
      },
      "cell_type": "code",
      "source": [
        "v1.op.node_def"
      ],
      "execution_count": 0,
      "outputs": [
        {
          "output_type": "execute_result",
          "data": {
            "text/plain": [
              "name: \"v1\"\n",
              "op: \"VariableV2\"\n",
              "attr {\n",
              "  key: \"container\"\n",
              "  value {\n",
              "    s: \"\"\n",
              "  }\n",
              "}\n",
              "attr {\n",
              "  key: \"dtype\"\n",
              "  value {\n",
              "    type: DT_INT32\n",
              "  }\n",
              "}\n",
              "attr {\n",
              "  key: \"shape\"\n",
              "  value {\n",
              "    shape {\n",
              "    }\n",
              "  }\n",
              "}\n",
              "attr {\n",
              "  key: \"shared_name\"\n",
              "  value {\n",
              "    s: \"\"\n",
              "  }\n",
              "}"
            ]
          },
          "metadata": {
            "tags": []
          },
          "execution_count": 12
        }
      ]
    },
    {
      "metadata": {
        "id": "tej7-F-CwpJz",
        "colab_type": "text"
      },
      "cell_type": "markdown",
      "source": [
        "name: \"v1\"    <br>\n",
        "op: \"VariableV2\"   #변수의 연산을 함 <br>\n",
        "attr {    #container에 관한 속성(?)<br>\n",
        "  key: \"container\"    <br>\n",
        "  value {    <br>\n",
        "    s: \"\"    <br>\n",
        "  }    <br>\n",
        "}    <br>\n",
        "attr {    #데이터 타입에 관한 속성<br>\n",
        "  key: \"dtype\"    <br>\n",
        "  value {    <br>\n",
        "    type: DT_INT32   #데이터 타입은 int32임 <br>\n",
        "  }    <br>\n",
        "}    <br>\n",
        "attr {    #형에 관한 속성<br>\n",
        "  key: \"shape\"    <br>\n",
        "  value {    <br>\n",
        "    shape {    <br>\n",
        "    }    <br>\n",
        "  }    <br>\n",
        "}    <br>\n",
        "attr {    #shared_name에 관한 속성<br>\n",
        "  key: \"shared_name\"    <br>\n",
        "  value {    <br>\n",
        "    s: \"\"    <br>\n",
        "  }    <br>\n",
        "}    <br>\n",
        "\n",
        "#### 아직 채워진 정보가 부족하다 session run 이후를 보자"
      ]
    },
    {
      "metadata": {
        "id": "wL3Tjc-Xwms3",
        "colab_type": "code",
        "outputId": "12e1c1a7-47fa-40b8-9303-f287eec81fc6",
        "colab": {
          "base_uri": "https://localhost:8080/",
          "height": 34
        }
      },
      "cell_type": "code",
      "source": [
        "v1._variable"
      ],
      "execution_count": 0,
      "outputs": [
        {
          "output_type": "execute_result",
          "data": {
            "text/plain": [
              "<tf.Tensor 'v1:0' shape=() dtype=int32_ref>"
            ]
          },
          "metadata": {
            "tags": []
          },
          "execution_count": 14
        }
      ]
    },
    {
      "metadata": {
        "id": "GZNZDEnSxtUH",
        "colab_type": "text"
      },
      "cell_type": "markdown",
      "source": [
        "이게 뭐지?<br>\n",
        "위에서 확인할 수 있든 v1에 할당된 연산은 Variable2이다. 그리고 Variable클래스는 _variable텐서를 속성으로 가지고 있다. 이  _variable의 속성은 아래와 같다."
      ]
    },
    {
      "metadata": {
        "id": "ZTAljYILxqYA",
        "colab_type": "code",
        "outputId": "bbf325bb-d85b-4495-97ca-613af6ade42a",
        "colab": {
          "base_uri": "https://localhost:8080/",
          "height": 492
        }
      },
      "cell_type": "code",
      "source": [
        "v1._variable.op.node_def"
      ],
      "execution_count": 0,
      "outputs": [
        {
          "output_type": "execute_result",
          "data": {
            "text/plain": [
              "name: \"v1\"\n",
              "op: \"VariableV2\"\n",
              "attr {\n",
              "  key: \"container\"\n",
              "  value {\n",
              "    s: \"\"\n",
              "  }\n",
              "}\n",
              "attr {\n",
              "  key: \"dtype\"\n",
              "  value {\n",
              "    type: DT_INT32\n",
              "  }\n",
              "}\n",
              "attr {\n",
              "  key: \"shape\"\n",
              "  value {\n",
              "    shape {\n",
              "    }\n",
              "  }\n",
              "}\n",
              "attr {\n",
              "  key: \"shared_name\"\n",
              "  value {\n",
              "    s: \"\"\n",
              "  }\n",
              "}"
            ]
          },
          "metadata": {
            "tags": []
          },
          "execution_count": 15
        }
      ]
    },
    {
      "metadata": {
        "id": "Aegdb-0xyR1M",
        "colab_type": "text"
      },
      "cell_type": "markdown",
      "source": [
        "다를것이 없어보인다.."
      ]
    },
    {
      "metadata": {
        "id": "k315M-_iyL1P",
        "colab_type": "code",
        "outputId": "14c20dd9-ff81-46e8-a9f8-a095da12c76c",
        "colab": {
          "base_uri": "https://localhost:8080/",
          "height": 34
        }
      },
      "cell_type": "code",
      "source": [
        "type(p)"
      ],
      "execution_count": 0,
      "outputs": [
        {
          "output_type": "execute_result",
          "data": {
            "text/plain": [
              "tensorflow.python.framework.ops.Tensor"
            ]
          },
          "metadata": {
            "tags": []
          },
          "execution_count": 17
        }
      ]
    },
    {
      "metadata": {
        "id": "i8A6c5NIyVzy",
        "colab_type": "code",
        "outputId": "b41f9a43-4344-4621-afb8-7056a511af7c",
        "colab": {
          "base_uri": "https://localhost:8080/",
          "height": 34
        }
      },
      "cell_type": "code",
      "source": [
        "p"
      ],
      "execution_count": 0,
      "outputs": [
        {
          "output_type": "execute_result",
          "data": {
            "text/plain": [
              "<tf.Tensor 'p:0' shape=(1,) dtype=int32>"
            ]
          },
          "metadata": {
            "tags": []
          },
          "execution_count": 18
        }
      ]
    },
    {
      "metadata": {
        "id": "g8ayVTqEymaA",
        "colab_type": "code",
        "outputId": "7063f993-bf49-4827-97a9-ce0880a83138",
        "colab": {
          "base_uri": "https://localhost:8080/",
          "height": 34
        }
      },
      "cell_type": "code",
      "source": [
        "p.op"
      ],
      "execution_count": 0,
      "outputs": [
        {
          "output_type": "execute_result",
          "data": {
            "text/plain": [
              "<tf.Operation 'p' type=Placeholder>"
            ]
          },
          "metadata": {
            "tags": []
          },
          "execution_count": 19
        }
      ]
    },
    {
      "metadata": {
        "id": "SihWGP9Nynk-",
        "colab_type": "code",
        "outputId": "9dc24fdd-f1ed-4321-bbad-2d7f445572be",
        "colab": {
          "base_uri": "https://localhost:8080/",
          "height": 334
        }
      },
      "cell_type": "code",
      "source": [
        "p.op.node_def"
      ],
      "execution_count": 0,
      "outputs": [
        {
          "output_type": "execute_result",
          "data": {
            "text/plain": [
              "name: \"p\"\n",
              "op: \"Placeholder\"\n",
              "attr {\n",
              "  key: \"dtype\"\n",
              "  value {\n",
              "    type: DT_INT32\n",
              "  }\n",
              "}\n",
              "attr {\n",
              "  key: \"shape\"\n",
              "  value {\n",
              "    shape {\n",
              "      dim {\n",
              "        size: 1\n",
              "      }\n",
              "    }\n",
              "  }\n",
              "}"
            ]
          },
          "metadata": {
            "tags": []
          },
          "execution_count": 20
        }
      ]
    },
    {
      "metadata": {
        "id": "_z-cTg4XysEe",
        "colab_type": "text"
      },
      "cell_type": "markdown",
      "source": [
        "placeholder의 연산을 하는 p노드는<br>\n",
        "데이터 타입 속성으로 int32를<br>\n",
        "형 속성으로는 1차원이라는 형태를 갖는다<br>\n",
        "\n",
        "### 이제 그래프 g2의 세션을 만들어 실행시켜보자"
      ]
    },
    {
      "metadata": {
        "id": "-Eilo8LNypqb",
        "colab_type": "code",
        "outputId": "5c76012a-742d-436a-fd4b-6a50297e8058",
        "colab": {
          "base_uri": "https://localhost:8080/",
          "height": 2569
        }
      },
      "cell_type": "code",
      "source": [
        "g2.as_graph_def()"
      ],
      "execution_count": 0,
      "outputs": [
        {
          "output_type": "execute_result",
          "data": {
            "text/plain": [
              "node {\n",
              "  name: \"c1\"\n",
              "  op: \"Const\"\n",
              "  attr {\n",
              "    key: \"dtype\"\n",
              "    value {\n",
              "      type: DT_INT32\n",
              "    }\n",
              "  }\n",
              "  attr {\n",
              "    key: \"value\"\n",
              "    value {\n",
              "      tensor {\n",
              "        dtype: DT_INT32\n",
              "        tensor_shape {\n",
              "        }\n",
              "        int_val: 1\n",
              "      }\n",
              "    }\n",
              "  }\n",
              "}\n",
              "node {\n",
              "  name: \"v1/initial_value\"\n",
              "  op: \"Const\"\n",
              "  attr {\n",
              "    key: \"dtype\"\n",
              "    value {\n",
              "      type: DT_INT32\n",
              "    }\n",
              "  }\n",
              "  attr {\n",
              "    key: \"value\"\n",
              "    value {\n",
              "      tensor {\n",
              "        dtype: DT_INT32\n",
              "        tensor_shape {\n",
              "        }\n",
              "        int_val: 1\n",
              "      }\n",
              "    }\n",
              "  }\n",
              "}\n",
              "node {\n",
              "  name: \"v1\"\n",
              "  op: \"VariableV2\"\n",
              "  attr {\n",
              "    key: \"container\"\n",
              "    value {\n",
              "      s: \"\"\n",
              "    }\n",
              "  }\n",
              "  attr {\n",
              "    key: \"dtype\"\n",
              "    value {\n",
              "      type: DT_INT32\n",
              "    }\n",
              "  }\n",
              "  attr {\n",
              "    key: \"shape\"\n",
              "    value {\n",
              "      shape {\n",
              "      }\n",
              "    }\n",
              "  }\n",
              "  attr {\n",
              "    key: \"shared_name\"\n",
              "    value {\n",
              "      s: \"\"\n",
              "    }\n",
              "  }\n",
              "}\n",
              "node {\n",
              "  name: \"v1/Assign\"\n",
              "  op: \"Assign\"\n",
              "  input: \"v1\"\n",
              "  input: \"v1/initial_value\"\n",
              "  attr {\n",
              "    key: \"T\"\n",
              "    value {\n",
              "      type: DT_INT32\n",
              "    }\n",
              "  }\n",
              "  attr {\n",
              "    key: \"_class\"\n",
              "    value {\n",
              "      list {\n",
              "        s: \"loc:@v1\"\n",
              "      }\n",
              "    }\n",
              "  }\n",
              "  attr {\n",
              "    key: \"use_locking\"\n",
              "    value {\n",
              "      b: true\n",
              "    }\n",
              "  }\n",
              "  attr {\n",
              "    key: \"validate_shape\"\n",
              "    value {\n",
              "      b: true\n",
              "    }\n",
              "  }\n",
              "}\n",
              "node {\n",
              "  name: \"v1/read\"\n",
              "  op: \"Identity\"\n",
              "  input: \"v1\"\n",
              "  attr {\n",
              "    key: \"T\"\n",
              "    value {\n",
              "      type: DT_INT32\n",
              "    }\n",
              "  }\n",
              "  attr {\n",
              "    key: \"_class\"\n",
              "    value {\n",
              "      list {\n",
              "        s: \"loc:@v1\"\n",
              "      }\n",
              "    }\n",
              "  }\n",
              "}\n",
              "node {\n",
              "  name: \"p\"\n",
              "  op: \"Placeholder\"\n",
              "  attr {\n",
              "    key: \"dtype\"\n",
              "    value {\n",
              "      type: DT_INT32\n",
              "    }\n",
              "  }\n",
              "  attr {\n",
              "    key: \"shape\"\n",
              "    value {\n",
              "      shape {\n",
              "        dim {\n",
              "          size: 1\n",
              "        }\n",
              "      }\n",
              "    }\n",
              "  }\n",
              "}\n",
              "versions {\n",
              "  producer: 27\n",
              "}"
            ]
          },
          "metadata": {
            "tags": []
          },
          "execution_count": 21
        }
      ]
    },
    {
      "metadata": {
        "id": "6-nuyzzCzNZw",
        "colab_type": "code",
        "outputId": "2e7c909c-c498-41aa-8bee-eb6991f46d5b",
        "colab": {
          "base_uri": "https://localhost:8080/",
          "height": 3572
        }
      },
      "cell_type": "code",
      "source": [
        "with tf.Session(graph=g2) as sess:\n",
        "  print(\"c1: \",sess.run(c1))\n",
        "  sess.run(tf.global_variables_initializer())#모든 variable변수를 초기화함\n",
        "  print(\"v1: \",sess.run(v1))\n",
        "  print(\"p: \",sess.run(p, feed_dict={p:[100]}))#place holder변수는 세션실행시\n",
        "                                         #feed_dict를 통해 값을 줘야함\n",
        "  print(\"v1의 정의\",v1.op.node_def)\n",
        "  print(\"함수 정의\",g2.as_graph_def())"
      ],
      "execution_count": 0,
      "outputs": [
        {
          "output_type": "stream",
          "text": [
            "c1:  1\n",
            "v1:  1\n",
            "p:  [100]\n",
            "v1의 정의 name: \"v1\"\n",
            "op: \"VariableV2\"\n",
            "attr {\n",
            "  key: \"container\"\n",
            "  value {\n",
            "    s: \"\"\n",
            "  }\n",
            "}\n",
            "attr {\n",
            "  key: \"dtype\"\n",
            "  value {\n",
            "    type: DT_INT32\n",
            "  }\n",
            "}\n",
            "attr {\n",
            "  key: \"shape\"\n",
            "  value {\n",
            "    shape {\n",
            "    }\n",
            "  }\n",
            "}\n",
            "attr {\n",
            "  key: \"shared_name\"\n",
            "  value {\n",
            "    s: \"\"\n",
            "  }\n",
            "}\n",
            "\n",
            "함수 정의 node {\n",
            "  name: \"c1\"\n",
            "  op: \"Const\"\n",
            "  attr {\n",
            "    key: \"dtype\"\n",
            "    value {\n",
            "      type: DT_INT32\n",
            "    }\n",
            "  }\n",
            "  attr {\n",
            "    key: \"value\"\n",
            "    value {\n",
            "      tensor {\n",
            "        dtype: DT_INT32\n",
            "        tensor_shape {\n",
            "        }\n",
            "        int_val: 1\n",
            "      }\n",
            "    }\n",
            "  }\n",
            "}\n",
            "node {\n",
            "  name: \"v1/initial_value\"\n",
            "  op: \"Const\"\n",
            "  attr {\n",
            "    key: \"dtype\"\n",
            "    value {\n",
            "      type: DT_INT32\n",
            "    }\n",
            "  }\n",
            "  attr {\n",
            "    key: \"value\"\n",
            "    value {\n",
            "      tensor {\n",
            "        dtype: DT_INT32\n",
            "        tensor_shape {\n",
            "        }\n",
            "        int_val: 1\n",
            "      }\n",
            "    }\n",
            "  }\n",
            "}\n",
            "node {\n",
            "  name: \"v1\"\n",
            "  op: \"VariableV2\"\n",
            "  attr {\n",
            "    key: \"container\"\n",
            "    value {\n",
            "      s: \"\"\n",
            "    }\n",
            "  }\n",
            "  attr {\n",
            "    key: \"dtype\"\n",
            "    value {\n",
            "      type: DT_INT32\n",
            "    }\n",
            "  }\n",
            "  attr {\n",
            "    key: \"shape\"\n",
            "    value {\n",
            "      shape {\n",
            "      }\n",
            "    }\n",
            "  }\n",
            "  attr {\n",
            "    key: \"shared_name\"\n",
            "    value {\n",
            "      s: \"\"\n",
            "    }\n",
            "  }\n",
            "}\n",
            "node {\n",
            "  name: \"v1/Assign\"\n",
            "  op: \"Assign\"\n",
            "  input: \"v1\"\n",
            "  input: \"v1/initial_value\"\n",
            "  attr {\n",
            "    key: \"T\"\n",
            "    value {\n",
            "      type: DT_INT32\n",
            "    }\n",
            "  }\n",
            "  attr {\n",
            "    key: \"_class\"\n",
            "    value {\n",
            "      list {\n",
            "        s: \"loc:@v1\"\n",
            "      }\n",
            "    }\n",
            "  }\n",
            "  attr {\n",
            "    key: \"use_locking\"\n",
            "    value {\n",
            "      b: true\n",
            "    }\n",
            "  }\n",
            "  attr {\n",
            "    key: \"validate_shape\"\n",
            "    value {\n",
            "      b: true\n",
            "    }\n",
            "  }\n",
            "}\n",
            "node {\n",
            "  name: \"v1/read\"\n",
            "  op: \"Identity\"\n",
            "  input: \"v1\"\n",
            "  attr {\n",
            "    key: \"T\"\n",
            "    value {\n",
            "      type: DT_INT32\n",
            "    }\n",
            "  }\n",
            "  attr {\n",
            "    key: \"_class\"\n",
            "    value {\n",
            "      list {\n",
            "        s: \"loc:@v1\"\n",
            "      }\n",
            "    }\n",
            "  }\n",
            "}\n",
            "node {\n",
            "  name: \"p\"\n",
            "  op: \"Placeholder\"\n",
            "  attr {\n",
            "    key: \"dtype\"\n",
            "    value {\n",
            "      type: DT_INT32\n",
            "    }\n",
            "  }\n",
            "  attr {\n",
            "    key: \"shape\"\n",
            "    value {\n",
            "      shape {\n",
            "        dim {\n",
            "          size: 1\n",
            "        }\n",
            "      }\n",
            "    }\n",
            "  }\n",
            "}\n",
            "node {\n",
            "  name: \"init\"\n",
            "  op: \"NoOp\"\n",
            "  input: \"^v1/Assign\"\n",
            "}\n",
            "node {\n",
            "  name: \"init_1\"\n",
            "  op: \"NoOp\"\n",
            "  input: \"^v1/Assign\"\n",
            "}\n",
            "node {\n",
            "  name: \"init_2\"\n",
            "  op: \"NoOp\"\n",
            "  input: \"^v1/Assign\"\n",
            "}\n",
            "node {\n",
            "  name: \"init_3\"\n",
            "  op: \"NoOp\"\n",
            "  input: \"^v1/Assign\"\n",
            "}\n",
            "node {\n",
            "  name: \"init_4\"\n",
            "  op: \"NoOp\"\n",
            "  input: \"^v1/Assign\"\n",
            "}\n",
            "versions {\n",
            "  producer: 27\n",
            "}\n",
            "\n"
          ],
          "name": "stdout"
        }
      ]
    },
    {
      "metadata": {
        "id": "VcbvF_wH1BLu",
        "colab_type": "text"
      },
      "cell_type": "markdown",
      "source": [
        "v1의 정의는 세션실행중과 아닐때 다른점이 없다.\n",
        "각 노드의 정의는 달라지지 않나보다."
      ]
    },
    {
      "metadata": {
        "id": "jEY72EDG2sZb",
        "colab_type": "text"
      },
      "cell_type": "markdown",
      "source": [
        "그래프에 세션실행 전, 후로 아래가 추가되었다.\n",
        "\n",
        "node {<br>\n",
        "name: \"init\"<br>\n",
        "op: \"NoOp\" <br>\n",
        "input: \"^v1/Assign\" <br>\n",
        "}<br>\n",
        "node {<br>\n",
        "name: \"init_1\"<br>\n",
        "op: \"NoOp\"<br>\n",
        "input: \"^v1/Assign\"<br>\n",
        "}<br>\n",
        "node { <br>\n",
        "name: \"init_2\" <br>\n",
        "op: \"NoOp\"<br>\n",
        "input: \"^v1/Assign\" <br>\n",
        "}<br>\n",
        "node {<br>\n",
        "name: \"init_3\"<br>\n",
        "op: \"NoOp\"<br>\n",
        "input: \"^v1/Assign\"<br>\n",
        "}<br> \n",
        "node {<br>\n",
        "name: \"init_4\" <br>\n",
        "op: \"NoOp\" <br>\n",
        "input: \"^v1/Assign\" <br>\n",
        "} \n",
        "\n",
        "\n",
        "또한<br>\n",
        "node { name: \"c1\" op: \"Const\" attr { key: \"dtype\" value { type: DT_INT32 } } attr { key: \"value\" value { tensor { dtype: DT_INT32 tensor_shape { } int_val: 1 } } } }\n",
        "\n",
        "\n",
        "node { name: \"v1/initial_value\" op: \"Const\" attr { key: \"dtype\" value { type: DT_INT32 } } attr { key: \"value\" value { tensor { dtype: DT_INT32 tensor_shape { } int_val: 1 } } } } \n",
        "\n",
        "\n",
        "node { name: \"v1\" op: \"VariableV2\" attr { key: \"container\" value { s: \"\" } } attr { key: \"dtype\" value { type: DT_INT32 } } attr { key: \"shape\" value { shape { } } } attr { key: \"shared_name\" value { s: \"\" } } } \n",
        "\n",
        "\n",
        "node { name: \"v1/Assign\" op: \"Assign\" input: \"v1\" input: \"v1/initial_value\" attr { key: \"T\" value { type: DT_INT32 } } attr { key: \"_class\" value { list { s: \"loc:@v1\" } } } attr { key: \"use_locking\" value { b: true } } attr { key: \"validate_shape\" value { b: true } } }\n",
        "\n",
        "\n",
        " node { name: \"v1/read\" op: \"Identity\" input: \"v1\" attr { key: \"T\" value { type: DT_INT32 } } attr { key: \"_class\" value { list { s: \"loc:@v1\" } } } } \n",
        " \n",
        " \n",
        "node { name: \"p\" op: \"Placeholder\" attr { key: \"dtype\" value { type: DT_INT32 } } attr { key: \"shape\" value { shape { dim { size: 1 } } } } } versions { producer: 27 }\n",
        "\n",
        "는 공통이다."
      ]
    },
    {
      "metadata": {
        "id": "3uNXlN1R4iO5",
        "colab_type": "text"
      },
      "cell_type": "markdown",
      "source": [
        "# 플레이스 홀더 예제"
      ]
    },
    {
      "metadata": {
        "id": "BYCBQHvY4oX5",
        "colab_type": "code",
        "outputId": "31aef55b-02ee-45be-812e-248f152329a3",
        "colab": {
          "base_uri": "https://localhost:8080/",
          "height": 34
        }
      },
      "cell_type": "code",
      "source": [
        "#플레이스홀더 예제1\n",
        "input = [1, 2, 3, 4, 5]\n",
        "x = tf.placeholder(dtype=tf.float32)\n",
        "y = x + 5\n",
        "\n",
        "sess = tf.Session()\n",
        "result = sess.run(y,feed_dict={x :input})\n",
        "\n",
        "print(result)\n"
      ],
      "execution_count": 0,
      "outputs": [
        {
          "output_type": "stream",
          "text": [
            "[ 6.  7.  8.  9. 10.]\n"
          ],
          "name": "stdout"
        }
      ]
    },
    {
      "metadata": {
        "id": "fRd-kFkp4-45",
        "colab_type": "code",
        "outputId": "0fd098cb-abcd-4dcd-d8fa-6db8480be0ac",
        "colab": {
          "base_uri": "https://localhost:8080/",
          "height": 34
        }
      },
      "cell_type": "code",
      "source": [
        "y.op"
      ],
      "execution_count": 0,
      "outputs": [
        {
          "output_type": "execute_result",
          "data": {
            "text/plain": [
              "<tf.Operation 'add' type=Add>"
            ]
          },
          "metadata": {
            "tags": []
          },
          "execution_count": 34
        }
      ]
    },
    {
      "metadata": {
        "id": "se26tzzm5QZK",
        "colab_type": "code",
        "outputId": "6d42d638-c2ff-4688-cb03-8e4aebaf1ac6",
        "colab": {
          "base_uri": "https://localhost:8080/",
          "height": 193
        }
      },
      "cell_type": "code",
      "source": [
        "y.op.node_def"
      ],
      "execution_count": 0,
      "outputs": [
        {
          "output_type": "execute_result",
          "data": {
            "text/plain": [
              "name: \"add\"\n",
              "op: \"Add\"\n",
              "input: \"Placeholder\"\n",
              "input: \"add/y\"\n",
              "attr {\n",
              "  key: \"T\"\n",
              "  value {\n",
              "    type: DT_FLOAT\n",
              "  }\n",
              "}"
            ]
          },
          "metadata": {
            "tags": []
          },
          "execution_count": 35
        }
      ]
    },
    {
      "metadata": {
        "id": "7DIhX0g45SdV",
        "colab_type": "code",
        "outputId": "4e260b2f-d18a-47b5-8bb2-160a4436ff04",
        "colab": {
          "base_uri": "https://localhost:8080/",
          "height": 34
        }
      },
      "cell_type": "code",
      "source": [
        "#플레이스홀더 예제2\n",
        "mathScore = [85, 99, 84, 97, 92]\n",
        "englishScore = [59, 80, 84, 68, 77]\n",
        "\n",
        "a = tf.placeholder(dtype=tf.float32)\n",
        "b = tf.placeholder(dtype=tf.float32)\n",
        "y = (a+b)/2\n",
        "\n",
        "sess = tf.Session()\n",
        "result = sess.run(y, feed_dict={a: mathScore, b: englishScore})\n",
        "\n",
        "print(result)"
      ],
      "execution_count": 0,
      "outputs": [
        {
          "output_type": "stream",
          "text": [
            "[72.  89.5 84.  82.5 84.5]\n"
          ],
          "name": "stdout"
        }
      ]
    },
    {
      "metadata": {
        "id": "Lmj5XWhK59Nu",
        "colab_type": "code",
        "outputId": "858c70f3-70fb-4f60-c9ba-390a0178f512",
        "colab": {
          "base_uri": "https://localhost:8080/",
          "height": 34
        }
      },
      "cell_type": "code",
      "source": [
        "y.op #진짜정확한 나눗셈..?"
      ],
      "execution_count": 0,
      "outputs": [
        {
          "output_type": "execute_result",
          "data": {
            "text/plain": [
              "<tf.Operation 'truediv' type=RealDiv>"
            ]
          },
          "metadata": {
            "tags": []
          },
          "execution_count": 37
        }
      ]
    },
    {
      "metadata": {
        "id": "vtaqiSPn6AJC",
        "colab_type": "code",
        "outputId": "772e3ede-a009-46a5-aa45-ca2ea4e02f20",
        "colab": {
          "base_uri": "https://localhost:8080/",
          "height": 193
        }
      },
      "cell_type": "code",
      "source": [
        "y.op.node_def"
      ],
      "execution_count": 0,
      "outputs": [
        {
          "output_type": "execute_result",
          "data": {
            "text/plain": [
              "name: \"truediv\"\n",
              "op: \"RealDiv\"\n",
              "input: \"add_1\"\n",
              "input: \"truediv/y\"\n",
              "attr {\n",
              "  key: \"T\"\n",
              "  value {\n",
              "    type: DT_FLOAT\n",
              "  }\n",
              "}"
            ]
          },
          "metadata": {
            "tags": []
          },
          "execution_count": 38
        }
      ]
    },
    {
      "metadata": {
        "id": "iacUG3sr6OHI",
        "colab_type": "text"
      },
      "cell_type": "markdown",
      "source": [
        "# 주요함수"
      ]
    },
    {
      "metadata": {
        "id": "1uWbPqRa6COE",
        "colab_type": "code",
        "outputId": "ab27e544-0e55-4280-f9db-7a98100fbfd3",
        "colab": {
          "base_uri": "https://localhost:8080/",
          "height": 34
        }
      },
      "cell_type": "code",
      "source": [
        "a = tf.constant(17)\n",
        "b = tf.constant(5)\n",
        "\n",
        "sess = tf.Session()\n",
        "c=tf.add(a, b)\n",
        "v_add=sess.run(c)\n",
        "\n",
        "c=tf.subtract(a, b)\n",
        "v_sub=sess.run(c)\n",
        "\n",
        "c=tf.multiply(a, b)\n",
        "v_mult=sess.run(c)\n",
        "\n",
        "c=tf.truediv(a,b)\n",
        "v_trud=sess.run(c)\n",
        "\n",
        "c=tf.mod(a,b)\n",
        "v_mod=sess.run(c)\n",
        "\n",
        "c=-a\n",
        "v_=sess.run(c)\n",
        "\n",
        "print(v_add,\",\",v_sub,\",\",v_mult,\",\",v_trud,\",\",v_mod,\",\",v_)"
      ],
      "execution_count": 0,
      "outputs": [
        {
          "output_type": "stream",
          "text": [
            "22 , 12 , 85 , 3.4 , 2 , -17\n"
          ],
          "name": "stdout"
        }
      ]
    },
    {
      "metadata": {
        "id": "8H6A2FHQ7U5i",
        "colab_type": "code",
        "outputId": "9450cf36-1f25-400a-88a3-437f1427a7ad",
        "colab": {
          "base_uri": "https://localhost:8080/",
          "height": 34
        }
      },
      "cell_type": "code",
      "source": [
        "a=tf.constant(17.5)\n",
        "b=tf.constant(5.0)\n",
        "\n",
        "c=tf.negative(a) #음수를 반환\n",
        "v1=sess.run(c)\n",
        "\n",
        "c=tf.sign(a) #부호를 반환\n",
        "v2=sess.run(c)\n",
        "\n",
        "c=tf.square(a) #제곱을 반환\n",
        "v3=sess.run(c)\n",
        "\n",
        "c=tf.sqrt(a) #제곱근은 반환\n",
        "v4=sess.run(c)\n",
        "\n",
        "c=tf.pow(b,3) #거듭제곱을 수행\n",
        "v5=sess.run(c)\n",
        "\n",
        "print(v1,\",\", v2,\",\", v3,\",\", v4,\",\", v5)"
      ],
      "execution_count": 0,
      "outputs": [
        {
          "output_type": "stream",
          "text": [
            "-17.5 , 1.0 , 306.25 , 4.1833 , 125.0\n"
          ],
          "name": "stdout"
        }
      ]
    },
    {
      "metadata": {
        "id": "QOYOvdJs8ilG",
        "colab_type": "code",
        "outputId": "1e9ddb42-1d2e-4516-d33c-c45a9fef48bf",
        "colab": {
          "base_uri": "https://localhost:8080/",
          "height": 34
        }
      },
      "cell_type": "code",
      "source": [
        "c=tf.maximum(a, b) #더 큰값을 반환\n",
        "v1=sess.run(c)\n",
        "\n",
        "c=tf.minimum(a, b) #더 작은값을 반환\n",
        "v2=sess.run(c)\n",
        "\n",
        "c=tf.exp(b) #지수값을 계산 e^b\n",
        "v3=sess.run(c)\n",
        "\n",
        "c=tf.log(b) #로그값을 계산 ln b\n",
        "v4=sess.run(c)\n",
        "\n",
        "c=tf.sin(b)\n",
        "v5=sess.run(c)\n",
        "\n",
        "c=tf.cos(b)\n",
        "v6=sess.run(c)\n",
        "\n",
        "print(v1,\",\", v2,\",\", v3,\",\", v4,\",\", v5,\",\",v6)"
      ],
      "execution_count": 0,
      "outputs": [
        {
          "output_type": "stream",
          "text": [
            "17.5 , 5.0 , 148.41316 , 1.609438 , -0.9589243 , 0.2836622\n"
          ],
          "name": "stdout"
        }
      ]
    },
    {
      "metadata": {
        "id": "BoMtsvpU-acU",
        "colab_type": "text"
      },
      "cell_type": "markdown",
      "source": [
        "[텐서플로우 아키텍쳐](https://gdyoon.tistory.com/3)<br>\n",
        "텐서플로우는 파이썬 레벨에서는 연산을 수행하지 않는다.\n",
        "텐서플로우 라이브러리를 통해 파이썬 (또는 다른 언어) 으로 그래프를 작성하고,\n",
        "\n",
        "세션이 생성되면 연산장치(CPU, GPU)에 의하여 연산을 할당시키고,\n",
        "\n",
        "펌웨어 레벨에서 고속연산을 수행합니다. 실제로 C에서 연산을 처리하여 속도가 빠릅니다.\n",
        "\n"
      ]
    },
    {
      "metadata": {
        "id": "IDkEYZF1_j2F",
        "colab_type": "text"
      },
      "cell_type": "markdown",
      "source": [
        "# Linear Regression"
      ]
    },
    {
      "metadata": {
        "id": "VsW5tJts_Uiv",
        "colab_type": "code",
        "outputId": "170b9c98-e751-4340-af83-29e839212b89",
        "colab": {
          "base_uri": "https://localhost:8080/",
          "height": 34
        }
      },
      "cell_type": "code",
      "source": [
        "#두 변수 W와 b를 렌덤으로 초기화후 출력하기\n",
        "tf.set_random_seed(777)\n",
        "\n",
        "W=tf.Variable([3], name=\"weight\")\n",
        "b=tf.Variable(tf.random_normal([1]), name=\"bias\")\n",
        "\n",
        "init_op=tf.global_variables_initializer()\n",
        "sess=tf.Session()\n",
        "\n",
        "sess.run(init_op)\n",
        "\n",
        "W_final, b_final=sess.run([W, b])\n",
        "print(W_final, b_final)"
      ],
      "execution_count": 0,
      "outputs": [
        {
          "output_type": "stream",
          "text": [
            "[3] [-1.0980189]\n"
          ],
          "name": "stdout"
        }
      ]
    },
    {
      "metadata": {
        "id": "NhIsLoC-ALG8",
        "colab_type": "code",
        "outputId": "dcfff68f-2eed-4c62-9823-5cf199ea3f4f",
        "colab": {
          "base_uri": "https://localhost:8080/",
          "height": 404
        }
      },
      "cell_type": "code",
      "source": [
        "#cost 함수를 최소화하는 과정을 통해 적절한 W와 b값을 찾고 출력하기\n",
        "tf.set_random_seed(777)\n",
        "x_train = [1, 2, 3]\n",
        "y_train = [1, 2, 3]\n",
        "\n",
        "W=tf.Variable(tf.random_normal([1]), name=\"weight\")\n",
        "b=tf.Variable(tf.random_normal([1]), name=\"bias\")\n",
        "\n",
        "#hypothesis=tf.multiply(x_train, W) + b\n",
        "hypothesis = x_train * W + b\n",
        "# tf.add()\n",
        "\n",
        "cost = tf.reduce_mean(tf.square(hypothesis-y_train))\n",
        "\n",
        "#cost함수를 gradientDescent방식으로 minimize시켜라\n",
        "train = tf.train.GradientDescentOptimizer(learning_rate=0.01).minimize(cost)\n",
        "\n",
        "sess = tf.Session()\n",
        "sess.run(tf.global_variables_initializer())\n",
        "\n",
        "for step in range(10001):\n",
        "  _, cost_val, W_val, b_val = sess.run([train, cost, W, b])\n",
        "  \n",
        "  if step % 1000 == 0:\n",
        "    print(step, \" : \\ncost :\",cost_val,\"W and b: [\", W_val,\", \",b_val,\"]\")"
      ],
      "execution_count": 0,
      "outputs": [
        {
          "output_type": "stream",
          "text": [
            "0  : \n",
            "cost : 0.43659568 W and b: [ [0.29403773] ,  [1.7262623] ]\n",
            "1000  : \n",
            "cost : 0.0034081403 W and b: [ [0.9323591] ,  [0.15376368] ]\n",
            "2000  : \n",
            "cost : 2.7667274e-05 W and b: [ [0.99390554] ,  [0.01385413] ]\n",
            "3000  : \n",
            "cost : 2.2479189e-07 W and b: [ [0.9994506] ,  [0.00124871] ]\n",
            "4000  : \n",
            "cost : 1.8595566e-09 W and b: [ [0.9999499] ,  [0.00011358] ]\n",
            "5000  : \n",
            "cost : 1.8587798e-11 W and b: [ [0.9999948] ,  [1.1350103e-05] ]\n",
            "6000  : \n",
            "cost : 3.2448118e-12 W and b: [ [0.99999774] ,  [4.4899666e-06] ]\n",
            "7000  : \n",
            "cost : 3.0695446e-12 W and b: [ [0.99999785] ,  [4.35086e-06] ]\n",
            "8000  : \n",
            "cost : 3.0695446e-12 W and b: [ [0.99999785] ,  [4.35086e-06] ]\n",
            "9000  : \n",
            "cost : 3.0695446e-12 W and b: [ [0.99999785] ,  [4.35086e-06] ]\n",
            "10000  : \n",
            "cost : 3.0695446e-12 W and b: [ [0.99999785] ,  [4.35086e-06] ]\n"
          ],
          "name": "stdout"
        }
      ]
    },
    {
      "metadata": {
        "id": "eRVa_ffyC5Nt",
        "colab_type": "text"
      },
      "cell_type": "markdown",
      "source": [
        "W는 1에, b는 0에 가까워지고 있음"
      ]
    },
    {
      "metadata": {
        "id": "DOD2JSmwER0S",
        "colab_type": "code",
        "colab": {}
      },
      "cell_type": "code",
      "source": [
        "#그래프 그리기 위해\n",
        "import matplotlib.pyplot as plt"
      ],
      "execution_count": 0,
      "outputs": []
    },
    {
      "metadata": {
        "id": "BksrUV5oD5ZY",
        "colab_type": "code",
        "outputId": "c99e9a94-2dfc-487b-ce17-9c4a22cc9916",
        "colab": {
          "base_uri": "https://localhost:8080/",
          "height": 376
        }
      },
      "cell_type": "code",
      "source": [
        "#cost 함수를 최소화하는 과정을 통해 적절한 W와 b값을 찾고 출력하기\n",
        "tf.set_random_seed(777)\n",
        "x_train = [1, 2, 3]\n",
        "y_train = [1, 2, 3]\n",
        "\n",
        "W=tf.Variable(tf.random_normal([1]), name=\"weight\")\n",
        "b=tf.Variable(tf.random_normal([1]), name=\"bias\")\n",
        "\n",
        "#hypothesis=tf.multiply(x_train, W) + b\n",
        "hypothesis = x_train * W + b\n",
        "# tf.add()\n",
        "\n",
        "cost = tf.reduce_mean(tf.square(hypothesis-y_train))\n",
        "\n",
        "#cost함수를 gradientDescent방식으로 minimize시켜라\n",
        "train = tf.train.GradientDescentOptimizer(learning_rate=0.01).minimize(cost)\n",
        "\n",
        "W_history = []\n",
        "cost_history = []\n",
        "\n",
        "sess = tf.Session()\n",
        "sess.run(tf.global_variables_initializer())\n",
        "\n",
        "for step in range(10001):\n",
        "  _, cost_val, W_val, b_val = sess.run([train, cost, W, b])\n",
        "  \n",
        "  W_history.append(W_val)\n",
        "  cost_history.append(cost_val)\n",
        "  \n",
        "plt.title('20190331_Sejong-RCV') \n",
        "plt.ylabel('cost')\n",
        "plt.xlabel('W')\n",
        "plt.plot(W_history, cost_history)\n",
        "plt.show()"
      ],
      "execution_count": 0,
      "outputs": [
        {
          "output_type": "display_data",
          "data": {
            "image/png": "[encoded data removed]",
            "text/plain": [
              "<Figure size 576x396 with 1 Axes>"
            ]
          },
          "metadata": {
            "tags": []
          }
        }
      ]
    },
    {
      "metadata": {
        "id": "J6fo1J1TCf21",
        "colab_type": "code",
        "outputId": "b4d3f96e-0eaa-44e5-9dcb-4b67dbc77d2b",
        "colab": {
          "base_uri": "https://localhost:8080/",
          "height": 376
        }
      },
      "cell_type": "code",
      "source": [
        "X=[1,2,3]\n",
        "Y=[1,2,3]\n",
        "\n",
        "W=tf.placeholder(tf.float32)\n",
        "hypothesis = X * W\n",
        "\n",
        "cost = tf.reduce_mean(tf.square(hypothesis-Y))\n",
        "\n",
        "W_history=[]\n",
        "cost_history=[]\n",
        "for i in range(-30, 50):\n",
        "  curr_W=i*0.1\n",
        "  curr_cost=sess.run(cost, feed_dict={W:curr_W})\n",
        "  \n",
        "  W_history.append(curr_W)\n",
        "  cost_history.append(curr_cost)\n",
        "  \n",
        "plt.title('20190331_Sejong-RCV') \n",
        "plt.ylabel('cost')\n",
        "plt.xlabel('W')\n",
        "plt.plot(W_history, cost_history)\n",
        "plt.show()"
      ],
      "execution_count": 0,
      "outputs": [
        {
          "output_type": "display_data",
          "data": {
            "image/png": "[encoded data removed]",
            "text/plain": [
              "<Figure size 576x396 with 1 Axes>"
            ]
          },
          "metadata": {
            "tags": []
          }
        }
      ]
    },
    {
      "metadata": {
        "id": "3XahjuqWEjKR",
        "colab_type": "code",
        "outputId": "33bc41cf-e6a0-487d-f108-6f4b0d34e71c",
        "colab": {
          "base_uri": "https://localhost:8080/",
          "height": 334
        }
      },
      "cell_type": "code",
      "source": [
        "#입력 3개\n",
        "tf.set_random_seed(777)\n",
        "\n",
        "x1_data = [73., 93., 89., 96., 73.]\n",
        "x2_data = [80., 88., 91., 98., 66.]\n",
        "x3_data = [75., 93., 90., 100., 70.]\n",
        "\n",
        "y_data = [152., 185., 180., 196., 142.]\n",
        "\n",
        "x1 = tf.placeholder(tf.float32)\n",
        "x2 = tf.placeholder(tf.float32)\n",
        "x3 = tf.placeholder(tf.float32)\n",
        "Y = tf.placeholder(tf.float32)\n",
        "\n",
        "w1=tf.Variable(tf.random_normal([1]), name='weight1')\n",
        "w2=tf.Variable(tf.random_normal([1]), name='weight2')\n",
        "w3=tf.Variable(tf.random_normal([1]), name='weight3')\n",
        "b=tf.Variable(tf.random_normal([1]), name='bias')\n",
        "\n",
        "hypothesis = x1 * w1 + x2 * w2 + x3 * w3 + b\n",
        "\n",
        "cost = tf.reduce_mean(tf.square(hypothesis - Y)) #reduce_mean은 평균함수\n",
        "\n",
        "optimizer = tf.train.GradientDescentOptimizer(learning_rate=1e-5)\n",
        "train=optimizer.minimize(cost)\n",
        "\n",
        "sess=tf.Session()\n",
        "sess.run(tf.global_variables_initializer())\n",
        "\n",
        "for step in range(10001):\n",
        "  cost_val, hy_val, _= sess.run([cost, hypothesis, train],\n",
        "                              feed_dict={x1: x1_data, x2: x2_data, x3: x3_data, Y: y_data})\n",
        "  if step % 2000 == 0:\n",
        "    print(step, \" cost: \", cost_val, \"\\n Prediction:\\n\", hy_val)"
      ],
      "execution_count": 0,
      "outputs": [
        {
          "output_type": "stream",
          "text": [
            "0  cost:  60810.07 \n",
            " Prediction:\n",
            " [-69.92225 -76.55041 -79.42077 -86.48076 -56.23655]\n",
            "2000  cost:  1.2782195 \n",
            " Prediction:\n",
            " [149.98302 185.67307 180.03847 195.93097 143.36514]\n",
            "4000  cost:  0.52545875 \n",
            " Prediction:\n",
            " [150.62762 185.23201 180.23701 196.06631 142.7934 ]\n",
            "6000  cost:  0.27037075 \n",
            " Prediction:\n",
            " [151.00398 184.9748  180.35332 196.1425  142.46263]\n",
            "8000  cost:  0.18367833 \n",
            " Prediction:\n",
            " [151.22426 184.82457 180.42175 196.18445 142.27193]\n",
            "10000  cost:  0.1539849 \n",
            " Prediction:\n",
            " [151.3537  184.73657 180.4623  196.20654 142.16263]\n"
          ],
          "name": "stdout"
        }
      ]
    },
    {
      "metadata": {
        "id": "tWOx5fOCJQlW",
        "colab_type": "text"
      },
      "cell_type": "markdown",
      "source": [
        "[나중에 읽어보기](https://datascienceschool.net/view-notebook/17608f897087478bbeac096438c716f6/)"
      ]
    },
    {
      "metadata": {
        "id": "x63H3vCiHY4-",
        "colab_type": "code",
        "outputId": "4d4e8386-7989-4d8c-eee6-1fe6320b8122",
        "colab": {
          "base_uri": "https://localhost:8080/",
          "height": 193
        }
      },
      "cell_type": "code",
      "source": [
        "import numpy as np\n",
        "x1_data = [73., 93., 89., 96., 73.]\n",
        "x2_data = [80., 88., 91., 98., 66.]\n",
        "x3_data = [75., 93., 90., 100., 70.]\n",
        "y_data = [152., 185., 180., 196., 142.]\n",
        "\n",
        "x_data=np.array([])\n",
        "x_data=np.stack([x1_data, x2_data, x3_data]) #그냥 쌓기\n",
        "x_data = x_data.T\n",
        "#위 2줄은 옆과 x = np.dstack([x1_data, x2_data, x3_data])\n",
        "\n",
        "y_data=np.array(y_data)\n",
        "y_data = y_data.reshape(5,-1)\n",
        "\n",
        "print(x)\n",
        "print(y)"
      ],
      "execution_count": 0,
      "outputs": [
        {
          "output_type": "stream",
          "text": [
            "[[ 73.  80.  75.]\n",
            " [ 93.  88.  93.]\n",
            " [ 89.  91.  90.]\n",
            " [ 96.  98. 100.]\n",
            " [ 73.  66.  70.]]\n",
            "[[152.]\n",
            " [185.]\n",
            " [180.]\n",
            " [196.]\n",
            " [142.]]\n"
          ],
          "name": "stdout"
        }
      ]
    },
    {
      "metadata": {
        "id": "hzera6nxGwul",
        "colab_type": "code",
        "outputId": "c849a823-d01d-447f-cd30-3f7c7bee57b7",
        "colab": {
          "base_uri": "https://localhost:8080/",
          "height": 756
        }
      },
      "cell_type": "code",
      "source": [
        "#입력 3개\n",
        "tf.set_random_seed(777)\n",
        "\n",
        "X=tf.placeholder(tf.float32, shape=[None, 3])\n",
        "Y=tf.placeholder(tf.float32, shape=[None, 1])\n",
        "\n",
        "W=tf.Variable(tf.random_normal([3, 1]), name='weight')\n",
        "b=tf.Variable(tf.random_normal([1]), name='bias')\n",
        "\n",
        "hypothesis = tf.matmul(X, W) + b\n",
        "\n",
        "cost = tf.reduce_mean(tf.square(hypothesis - Y)) #reduce_mean은 평균함수\n",
        "\n",
        "optimizer = tf.train.GradientDescentOptimizer(learning_rate=1e-5)\n",
        "train=optimizer.minimize(cost)\n",
        "\n",
        "sess=tf.Session()\n",
        "sess.run(tf.global_variables_initializer())\n",
        "\n",
        "for step in range(10001):\n",
        "  cost_val, hy_val, _= sess.run([cost, hypothesis, train],\n",
        "                              feed_dict={X: x_data, Y: y_data})\n",
        "  if step % 2000 == 0:\n",
        "    print(step, \" cost: \", cost_val, \"\\n Prediction:\\n\", hy_val)"
      ],
      "execution_count": 0,
      "outputs": [
        {
          "output_type": "stream",
          "text": [
            "0  cost:  66236.66 \n",
            " Prediction:\n",
            " [[-82.625336]\n",
            " [-85.824104]\n",
            " [-91.66374 ]\n",
            " [-99.558846]\n",
            " [-62.039948]]\n",
            "2000  cost:  5.7316074 \n",
            " Prediction:\n",
            " [[148.15271]\n",
            " [186.93628]\n",
            " [179.49417]\n",
            " [195.4469 ]\n",
            " [145.08957]]\n",
            "4000  cost:  2.0291276 \n",
            " Prediction:\n",
            " [[149.57646]\n",
            " [185.96065]\n",
            " [179.93091]\n",
            " [195.75871]\n",
            " [143.8128 ]]\n",
            "6000  cost:  0.7766245 \n",
            " Prediction:\n",
            " [[150.40527]\n",
            " [185.3929 ]\n",
            " [180.18533]\n",
            " [195.93872]\n",
            " [143.07121]]\n",
            "8000  cost:  0.3528251 \n",
            " Prediction:\n",
            " [[150.88803]\n",
            " [185.06233]\n",
            " [180.33372]\n",
            " [196.04216]\n",
            " [142.6408 ]]\n",
            "10000  cost:  0.20935646 \n",
            " Prediction:\n",
            " [[151.16951]\n",
            " [184.86977]\n",
            " [180.42043]\n",
            " [196.10112]\n",
            " [142.39131]]\n"
          ],
          "name": "stdout"
        }
      ]
    },
    {
      "metadata": {
        "id": "23qD-XQTKksg",
        "colab_type": "code",
        "colab": {}
      },
      "cell_type": "code",
      "source": [
        ""
      ],
      "execution_count": 0,
      "outputs": []
    }
  ]
}